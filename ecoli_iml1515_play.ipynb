{
 "cells": [
  {
   "cell_type": "code",
   "execution_count": 12,
   "metadata": {},
   "outputs": [],
   "source": [
    "import cobra\n",
    "from escher import Builder\n",
    "\n"
   ]
  },
  {
   "cell_type": "code",
   "execution_count": null,
   "metadata": {},
   "outputs": [
    {
     "name": "stdout",
     "output_type": "stream",
     "text": [
      "\n",
      "Note: You must interrupt the kernel to end this command\n",
      "\n",
      "Serving to http://127.0.0.1:7655/\n",
      "[Ctrl-C to exit from terminal, or Ctrl-M i i to interrupt notebook kernel]\n"
     ]
    },
    {
     "name": "stderr",
     "output_type": "stream",
     "text": [
      "/Users/jplfaria/anaconda3/lib/python3.7/site-packages/escher/plots.py:155 \u001b[1;31mUserWarning\u001b[0m: Map not in cache. Attempting download from https://escher.github.io/1-0-0/5/maps/Escherichia%20coli/iJO1366.Central%20metabolism.json\n",
      "127.0.0.1 - - [05/Nov/2018 11:56:22] \"GET / HTTP/1.1\" 200 -\n"
     ]
    }
   ],
   "source": [
    "b = Builder(map_name=\"iJO1366.Central metabolism\")\n",
    "b.display_in_browser()"
   ]
  },
  {
   "cell_type": "code",
   "execution_count": 2,
   "metadata": {},
   "outputs": [
    {
     "data": {
      "text/plain": [
       "['__builtins__',\n",
       " '__cached__',\n",
       " '__doc__',\n",
       " '__file__',\n",
       " '__loader__',\n",
       " '__name__',\n",
       " '__package__',\n",
       " '__path__',\n",
       " '__spec__',\n",
       " 'absolute_import',\n",
       " 'dict',\n",
       " 'from_json',\n",
       " 'from_yaml',\n",
       " 'json',\n",
       " 'load_json_model',\n",
       " 'load_matlab_model',\n",
       " 'load_yaml_model',\n",
       " 'mat',\n",
       " 'model_from_dict',\n",
       " 'model_to_dict',\n",
       " 'read_legacy_sbml',\n",
       " 'read_sbml_model',\n",
       " 'save_json_model',\n",
       " 'save_matlab_model',\n",
       " 'save_yaml_model',\n",
       " 'sbml',\n",
       " 'sbml3',\n",
       " 'to_json',\n",
       " 'to_yaml',\n",
       " 'write_legacy_sbml',\n",
       " 'write_sbml_model',\n",
       " 'yaml']"
      ]
     },
     "execution_count": 2,
     "metadata": {},
     "output_type": "execute_result"
    }
   ],
   "source": [
    "dir(cobra.io)"
   ]
  },
  {
   "cell_type": "code",
   "execution_count": 3,
   "metadata": {},
   "outputs": [],
   "source": [
    "model=cobra.io.read_sbml_model(filename=\"iML1515.xml\")\n"
   ]
  },
  {
   "cell_type": "code",
   "execution_count": 4,
   "metadata": {},
   "outputs": [
    {
     "name": "stdout",
     "output_type": "stream",
     "text": [
      "IN FLUXES            OUT FLUXES    OBJECTIVES\n",
      "-------------------  ------------  ----------------------\n",
      "o2_e      22.1       h2o_e  47.2   BIOMASS_Ec_i...  0.877\n",
      "glc__D_e  10         co2_e  24\n",
      "nh4_e      9.47      h_e     8.06\n",
      "pi_e       0.846\n",
      "so4_e      0.221\n",
      "k_e        0.171\n",
      "fe2_e      0.0141\n",
      "mg2_e      0.00761\n",
      "ca2_e      0.00456\n",
      "cl_e       0.00456\n",
      "cu2_e      0.000622\n",
      "mn2_e      0.000606\n",
      "zn2_e      0.000299\n",
      "ni2_e      0.000283\n"
     ]
    }
   ],
   "source": [
    "model.summary()"
   ]
  },
  {
   "cell_type": "code",
   "execution_count": 5,
   "metadata": {},
   "outputs": [],
   "source": [
    "solution = model.optimize()"
   ]
  },
  {
   "cell_type": "code",
   "execution_count": 6,
   "metadata": {},
   "outputs": [
    {
     "name": "stdout",
     "output_type": "stream",
     "text": [
      "EX_gthrd_e\n",
      "EX_thr__L_e\n",
      "EX_thrp_e\n"
     ]
    }
   ],
   "source": [
    "for r in model.reactions:\n",
    "    if \"EX_\" in r.id and \"thr\" in r.id:\n",
    "        print(r.id)"
   ]
  },
  {
   "cell_type": "code",
   "execution_count": 7,
   "metadata": {},
   "outputs": [],
   "source": [
    "model.objective = \"EX_thr__L_e\""
   ]
  },
  {
   "cell_type": "code",
   "execution_count": 8,
   "metadata": {},
   "outputs": [
    {
     "name": "stdout",
     "output_type": "stream",
     "text": [
      "IN FLUXES       OUT FLUXES      OBJECTIVES\n",
      "--------------  --------------  -----------------\n",
      "nh4_e     12.3  h2o_e     23    EX_thr__L_e  12.3\n",
      "o2_e      10.7  h_e       12.3\n",
      "glc__D_e  10    thr__L_e  12.3\n",
      "                co2_e     10.7\n"
     ]
    }
   ],
   "source": [
    "model.summary()"
   ]
  },
  {
   "cell_type": "code",
   "execution_count": 9,
   "metadata": {},
   "outputs": [],
   "source": [
    "solution = model.optimize()"
   ]
  },
  {
   "cell_type": "code",
   "execution_count": 10,
   "metadata": {},
   "outputs": [
    {
     "ename": "SyntaxError",
     "evalue": "invalid syntax (<ipython-input-10-8c8d472e3672>, line 1)",
     "output_type": "error",
     "traceback": [
      "\u001b[0;36m  File \u001b[0;32m\"<ipython-input-10-8c8d472e3672>\"\u001b[0;36m, line \u001b[0;32m1\u001b[0m\n\u001b[0;31m    cobra.\u001b[0m\n\u001b[0m          ^\u001b[0m\n\u001b[0;31mSyntaxError\u001b[0m\u001b[0;31m:\u001b[0m invalid syntax\n"
     ]
    }
   ],
   "source": [
    "cobra."
   ]
  },
  {
   "cell_type": "code",
   "execution_count": null,
   "metadata": {},
   "outputs": [],
   "source": []
  },
  {
   "cell_type": "code",
   "execution_count": null,
   "metadata": {},
   "outputs": [],
   "source": []
  },
  {
   "cell_type": "code",
   "execution_count": null,
   "metadata": {},
   "outputs": [],
   "source": []
  }
 ],
 "metadata": {
  "kernelspec": {
   "display_name": "Python 3",
   "language": "python",
   "name": "python3"
  },
  "language_info": {
   "codemirror_mode": {
    "name": "ipython",
    "version": 3
   },
   "file_extension": ".py",
   "mimetype": "text/x-python",
   "name": "python",
   "nbconvert_exporter": "python",
   "pygments_lexer": "ipython3",
   "version": "3.7.0"
  }
 },
 "nbformat": 4,
 "nbformat_minor": 2
}
