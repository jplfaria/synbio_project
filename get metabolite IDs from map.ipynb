{
 "cells": [
  {
   "cell_type": "code",
   "execution_count": 1,
   "metadata": {},
   "outputs": [],
   "source": [
    "import json"
   ]
  },
  {
   "cell_type": "code",
   "execution_count": 47,
   "metadata": {},
   "outputs": [],
   "source": [
    "with open('/Users/jplfaria/notebooks/escher/5/maps/Escherichia coli/map_v1.json', 'r') as f:\n",
    "    escher_map = json.load(f)"
   ]
  },
  {
   "cell_type": "code",
   "execution_count": 9,
   "metadata": {},
   "outputs": [
    {
     "data": {
      "text/plain": [
       "{'map_name': 'new_map',\n",
       " 'map_id': 'qfenoSUczSPO',\n",
       " 'map_description': '\\nLast Modified Fri Nov 16 2018 10:14:12 GMT-0600 (Central Standard Time)',\n",
       " 'homepage': 'https://escher.github.io',\n",
       " 'schema': 'https://escher.github.io/escher/jsonschema/1-0-0#'}"
      ]
     },
     "execution_count": 9,
     "metadata": {},
     "output_type": "execute_result"
    }
   ],
   "source": [
    "escher_map[0]"
   ]
  },
  {
   "cell_type": "code",
   "execution_count": 41,
   "metadata": {},
   "outputs": [
    {
     "name": "stdout",
     "output_type": "stream",
     "text": [
      "val__L [{'id': 'C00183', 'link': 'http://identifiers.org/kegg.compound/C00183'}, {'id': 'C16436', 'link': 'http://identifiers.org/kegg.compound/C16436'}]\n",
      "ile__L [{'id': 'C00407', 'link': 'http://identifiers.org/kegg.compound/C00407'}]\n",
      "hom__L [{'id': 'C00263', 'link': 'http://identifiers.org/kegg.compound/C00263'}]\n",
      "asp__L [{'id': 'C00049', 'link': 'http://identifiers.org/kegg.compound/C00049'}, {'id': 'C16433', 'link': 'http://identifiers.org/kegg.compound/C16433'}]\n",
      "ala_B [{'id': 'C00099', 'link': 'http://identifiers.org/kegg.compound/C00099'}]\n",
      "thdp [{'id': 'C03972', 'link': 'http://identifiers.org/kegg.compound/C03972'}]\n",
      "2obut [{'id': 'C00109', 'link': 'http://identifiers.org/kegg.compound/C00109'}]\n",
      "oaa [{'id': 'C00036', 'link': 'http://identifiers.org/kegg.compound/C00036'}, {'id': 'C03981', 'link': 'http://identifiers.org/kegg.compound/C03981'}]\n",
      "uamag [{'id': 'C00692', 'link': 'http://identifiers.org/kegg.compound/C00692'}]\n",
      "phom [{'id': 'C01102', 'link': 'http://identifiers.org/kegg.compound/C01102'}]\n",
      "3c2hmp [{'id': 'C04411', 'link': 'http://identifiers.org/kegg.compound/C04411'}]\n",
      "sl2a6o [{'id': 'C04462', 'link': 'http://identifiers.org/kegg.compound/C04462'}]\n",
      "4pasp [{'id': 'C03082', 'link': 'http://identifiers.org/kegg.compound/C03082'}]\n",
      "4mop [{'id': 'C00233', 'link': 'http://identifiers.org/kegg.compound/C00233'}]\n",
      "ppcoa [{'id': 'C00100', 'link': 'http://identifiers.org/kegg.compound/C00100'}]\n",
      "3c4mop [{'id': 'C04236', 'link': 'http://identifiers.org/kegg.compound/C04236'}]\n",
      "alac__S [{'id': 'C06010', 'link': 'http://identifiers.org/kegg.compound/C06010'}]\n",
      "thr__L [{'id': 'C00188', 'link': 'http://identifiers.org/kegg.compound/C00188'}]\n",
      "23dhmp [{'id': 'C06007', 'link': 'http://identifiers.org/kegg.compound/C06007'}]\n",
      "LalaDgluMdap {}\n",
      "3mop [{'id': 'C00671', 'link': 'http://identifiers.org/kegg.compound/C00671'}]\n",
      "2ippm [{'id': 'C02631', 'link': 'http://identifiers.org/kegg.compound/C02631'}]\n",
      "ugmd {}\n",
      "LalaDglu [{'id': 'C20957', 'link': 'http://identifiers.org/kegg.compound/C20957'}]\n",
      "pyr [{'id': 'C00022', 'link': 'http://identifiers.org/kegg.compound/C00022'}]\n",
      "26dap_LL [{'id': 'C00666', 'link': 'http://identifiers.org/kegg.compound/C00666'}]\n",
      "3c3hmp [{'id': 'C02504', 'link': 'http://identifiers.org/kegg.compound/C02504'}]\n",
      "26dap__M [{'id': 'C00680', 'link': 'http://identifiers.org/kegg.compound/C00680'}]\n",
      "2dhp [{'id': 'C00966', 'link': 'http://identifiers.org/kegg.compound/C00966'}]\n",
      "23dhmb [{'id': 'C04272', 'link': 'http://identifiers.org/kegg.compound/C04272'}]\n",
      "lys__L [{'id': 'C00047', 'link': 'http://identifiers.org/kegg.compound/C00047'}, {'id': 'C16440', 'link': 'http://identifiers.org/kegg.compound/C16440'}]\n",
      "2ahbut [{'id': 'C06006', 'link': 'http://identifiers.org/kegg.compound/C06006'}]\n",
      "leu__L [{'id': 'C00123', 'link': 'http://identifiers.org/kegg.compound/C00123'}, {'id': 'C16439', 'link': 'http://identifiers.org/kegg.compound/C16439'}]\n",
      "3mob [{'id': 'C00141', 'link': 'http://identifiers.org/kegg.compound/C00141'}]\n",
      "23dhdp {}\n",
      "aspsa [{'id': 'C00441', 'link': 'http://identifiers.org/kegg.compound/C00441'}]\n",
      "sl26da [{'id': 'C04421', 'link': 'http://identifiers.org/kegg.compound/C04421'}]\n"
     ]
    }
   ],
   "source": [
    "#print(escher_map[1]['nodes'])\n",
    "#print(escher_map[1]['nodes'][1])\n",
    "metabolites_in_map = set()\n",
    "for node_index in escher_map[1]['nodes']:\n",
    "    node = escher_map[1]['nodes'][node_index]\n",
    "    #print(node)\n",
    "    if node['node_type'] == 'metabolite' and node['node_is_primary']:\n",
    "        bigg_id = node['bigg_id'][:-2]\n",
    "        metabolites_in_map.add(bigg_id)\n",
    "\n",
    "for bigg_id in metabolites_in_map:\n",
    "    bigg_metabolite = get_bigg_metabolite(bigg_id)\n",
    "    keggs = get_database_links(bigg_metabolite, 'KEGG Compound')\n",
    "    print(bigg_id, keggs)\n",
    "    #if node['node_is_primary']:\n",
    "    #    print(node)"
   ]
  },
  {
   "cell_type": "code",
   "execution_count": 40,
   "metadata": {},
   "outputs": [
    {
     "name": "stdout",
     "output_type": "stream",
     "text": [
      "[{'id': 'C00022', 'link': 'http://identifiers.org/kegg.compound/C00022'}]\n"
     ]
    }
   ],
   "source": [
    "import urllib.request, json \n",
    "\n",
    "def get_bigg_metabolite(bigg_id):\n",
    "    bigg_metabolite = None\n",
    "    url_str = 'http://bigg.ucsd.edu/api/v2/universal/metabolites/' + bigg_id\n",
    "\n",
    "    with urllib.request.urlopen(url_str) as url:\n",
    "        bigg_metabolite = json.loads(url.read().decode())\n",
    "        #print(bigg_metabolite)\n",
    "    return bigg_metabolite\n",
    "\n",
    "def get_database_links(bigg_metabolite, database):\n",
    "    if 'database_links' in bigg_metabolite and database in bigg_metabolite['database_links']:\n",
    "        return bigg_metabolite['database_links'][database]\n",
    "    return {}\n",
    "\n",
    "bigg_metabolite = get_bigg_metabolite('pyr')\n",
    "keggs = get_database_links(bigg_metabolite, 'KEGG Compound')\n",
    "print(keggs)\n",
    "#with open(url, 'r') as f:\n",
    "#    bigg_metabolite = json.load(f)"
   ]
  },
  {
   "cell_type": "code",
   "execution_count": 48,
   "metadata": {},
   "outputs": [],
   "source": [
    "escher_map[1]['nodes']['0']['name'] = 'C00200'"
   ]
  },
  {
   "cell_type": "code",
   "execution_count": 49,
   "metadata": {},
   "outputs": [],
   "source": [
    "with open('/Users/jplfaria/notebooks/escher/5/maps/Escherichia coli/map_v2.json', 'w') as f:\n",
    "    json.dump(escher_map, f)"
   ]
  },
  {
   "cell_type": "raw",
   "metadata": {},
   "source": [
    "with open('data.json', 'w') as outfile:\n",
    "    json.dump(data, outfile)"
   ]
  }
 ],
 "metadata": {
  "kernelspec": {
   "display_name": "Python 3",
   "language": "python",
   "name": "python3"
  },
  "language_info": {
   "codemirror_mode": {
    "name": "ipython",
    "version": 3
   },
   "file_extension": ".py",
   "mimetype": "text/x-python",
   "name": "python",
   "nbconvert_exporter": "python",
   "pygments_lexer": "ipython3",
   "version": "3.7.0"
  }
 },
 "nbformat": 4,
 "nbformat_minor": 2
}
